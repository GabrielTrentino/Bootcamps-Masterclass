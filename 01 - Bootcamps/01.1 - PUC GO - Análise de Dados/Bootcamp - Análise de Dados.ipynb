{
 "cells": [
  {
   "cell_type": "markdown",
   "id": "meaningful-physics",
   "metadata": {},
   "source": [
    "# Bootcamp PUC-Goiás (RESUMO):"
   ]
  },
  {
   "cell_type": "markdown",
   "id": "challenging-monroe",
   "metadata": {},
   "source": [
    "# Notebook 01 - Apresentação Python"
   ]
  },
  {
   "cell_type": "markdown",
   "id": "equipped-inventory",
   "metadata": {},
   "source": [
    "## Códigos de informações da Máquina:"
   ]
  },
  {
   "cell_type": "code",
   "execution_count": 1,
   "id": "mineral-quest",
   "metadata": {
    "id": "CWu37k4jjc3Q"
   },
   "outputs": [
    {
     "name": "stdout",
     "output_type": "stream",
     "text": [
      "processor\t: 0\r\n",
      "vendor_id\t: GenuineIntel\r\n",
      "cpu family\t: 6\r\n",
      "model\t\t: 142\r\n",
      "model name\t: Intel(R) Core(TM) i5-7200U CPU @ 2.50GHz\r\n",
      "stepping\t: 9\r\n",
      "microcode\t: 0xde\r\n",
      "cpu MHz\t\t: 3099.692\r\n",
      "cache size\t: 3072 KB\r\n",
      "physical id\t: 0\r\n",
      "siblings\t: 4\r\n",
      "core id\t\t: 0\r\n",
      "cpu cores\t: 2\r\n",
      "apicid\t\t: 0\r\n",
      "initial apicid\t: 0\r\n",
      "fpu\t\t: yes\r\n",
      "fpu_exception\t: yes\r\n",
      "cpuid level\t: 22\r\n",
      "wp\t\t: yes\r\n",
      "flags\t\t: fpu vme de pse tsc msr pae mce cx8 apic sep mtrr pge mca cmov pat pse36 clflush dts acpi mmx fxsr sse sse2 ss ht tm pbe syscall nx pdpe1gb rdtscp lm constant_tsc art arch_perfmon pebs bts rep_good nopl xtopology nonstop_tsc cpuid aperfmperf pni pclmulqdq dtes64 monitor ds_cpl vmx est tm2 ssse3 sdbg fma cx16 xtpr pdcm pcid sse4_1 sse4_2 x2apic movbe popcnt tsc_deadline_timer aes xsave avx f16c rdrand lahf_lm abm 3dnowprefetch cpuid_fault epb invpcid_single pti ssbd ibrs ibpb stibp tpr_shadow vnmi flexpriority ept vpid ept_ad fsgsbase tsc_adjust bmi1 avx2 smep bmi2 erms invpcid mpx rdseed adx smap clflushopt intel_pt xsaveopt xsavec xgetbv1 xsaves dtherm ida arat pln pts hwp hwp_notify hwp_act_window hwp_epp md_clear flush_l1d\r\n",
      "vmx flags\t: vnmi preemption_timer invvpid ept_x_only ept_ad ept_1gb flexpriority tsc_offset vtpr mtf vapic ept vpid unrestricted_guest ple pml ept_mode_based_exec\r\n",
      "bugs\t\t: cpu_meltdown spectre_v1 spectre_v2 spec_store_bypass l1tf mds swapgs itlb_multihit srbds\r\n",
      "bogomips\t: 5399.81\r\n",
      "clflush size\t: 64\r\n",
      "cache_alignment\t: 64\r\n",
      "address sizes\t: 39 bits physical, 48 bits virtual\r\n",
      "power management:\r\n",
      "\r\n",
      "processor\t: 1\r\n",
      "vendor_id\t: GenuineIntel\r\n",
      "cpu family\t: 6\r\n",
      "model\t\t: 142\r\n",
      "model name\t: Intel(R) Core(TM) i5-7200U CPU @ 2.50GHz\r\n",
      "stepping\t: 9\r\n",
      "microcode\t: 0xde\r\n",
      "cpu MHz\t\t: 3099.022\r\n",
      "cache size\t: 3072 KB\r\n",
      "physical id\t: 0\r\n",
      "siblings\t: 4\r\n",
      "core id\t\t: 1\r\n",
      "cpu cores\t: 2\r\n",
      "apicid\t\t: 2\r\n",
      "initial apicid\t: 2\r\n",
      "fpu\t\t: yes\r\n",
      "fpu_exception\t: yes\r\n",
      "cpuid level\t: 22\r\n",
      "wp\t\t: yes\r\n",
      "flags\t\t: fpu vme de pse tsc msr pae mce cx8 apic sep mtrr pge mca cmov pat pse36 clflush dts acpi mmx fxsr sse sse2 ss ht tm pbe syscall nx pdpe1gb rdtscp lm constant_tsc art arch_perfmon pebs bts rep_good nopl xtopology nonstop_tsc cpuid aperfmperf pni pclmulqdq dtes64 monitor ds_cpl vmx est tm2 ssse3 sdbg fma cx16 xtpr pdcm pcid sse4_1 sse4_2 x2apic movbe popcnt tsc_deadline_timer aes xsave avx f16c rdrand lahf_lm abm 3dnowprefetch cpuid_fault epb invpcid_single pti ssbd ibrs ibpb stibp tpr_shadow vnmi flexpriority ept vpid ept_ad fsgsbase tsc_adjust bmi1 avx2 smep bmi2 erms invpcid mpx rdseed adx smap clflushopt intel_pt xsaveopt xsavec xgetbv1 xsaves dtherm ida arat pln pts hwp hwp_notify hwp_act_window hwp_epp md_clear flush_l1d\r\n",
      "vmx flags\t: vnmi preemption_timer invvpid ept_x_only ept_ad ept_1gb flexpriority tsc_offset vtpr mtf vapic ept vpid unrestricted_guest ple pml ept_mode_based_exec\r\n",
      "bugs\t\t: cpu_meltdown spectre_v1 spectre_v2 spec_store_bypass l1tf mds swapgs itlb_multihit srbds\r\n",
      "bogomips\t: 5399.81\r\n",
      "clflush size\t: 64\r\n",
      "cache_alignment\t: 64\r\n",
      "address sizes\t: 39 bits physical, 48 bits virtual\r\n",
      "power management:\r\n",
      "\r\n",
      "processor\t: 2\r\n",
      "vendor_id\t: GenuineIntel\r\n",
      "cpu family\t: 6\r\n",
      "model\t\t: 142\r\n",
      "model name\t: Intel(R) Core(TM) i5-7200U CPU @ 2.50GHz\r\n",
      "stepping\t: 9\r\n",
      "microcode\t: 0xde\r\n",
      "cpu MHz\t\t: 3098.703\r\n",
      "cache size\t: 3072 KB\r\n",
      "physical id\t: 0\r\n",
      "siblings\t: 4\r\n",
      "core id\t\t: 0\r\n",
      "cpu cores\t: 2\r\n",
      "apicid\t\t: 1\r\n",
      "initial apicid\t: 1\r\n",
      "fpu\t\t: yes\r\n",
      "fpu_exception\t: yes\r\n",
      "cpuid level\t: 22\r\n",
      "wp\t\t: yes\r\n",
      "flags\t\t: fpu vme de pse tsc msr pae mce cx8 apic sep mtrr pge mca cmov pat pse36 clflush dts acpi mmx fxsr sse sse2 ss ht tm pbe syscall nx pdpe1gb rdtscp lm constant_tsc art arch_perfmon pebs bts rep_good nopl xtopology nonstop_tsc cpuid aperfmperf pni pclmulqdq dtes64 monitor ds_cpl vmx est tm2 ssse3 sdbg fma cx16 xtpr pdcm pcid sse4_1 sse4_2 x2apic movbe popcnt tsc_deadline_timer aes xsave avx f16c rdrand lahf_lm abm 3dnowprefetch cpuid_fault epb invpcid_single pti ssbd ibrs ibpb stibp tpr_shadow vnmi flexpriority ept vpid ept_ad fsgsbase tsc_adjust bmi1 avx2 smep bmi2 erms invpcid mpx rdseed adx smap clflushopt intel_pt xsaveopt xsavec xgetbv1 xsaves dtherm ida arat pln pts hwp hwp_notify hwp_act_window hwp_epp md_clear flush_l1d\r\n",
      "vmx flags\t: vnmi preemption_timer invvpid ept_x_only ept_ad ept_1gb flexpriority tsc_offset vtpr mtf vapic ept vpid unrestricted_guest ple pml ept_mode_based_exec\r\n",
      "bugs\t\t: cpu_meltdown spectre_v1 spectre_v2 spec_store_bypass l1tf mds swapgs itlb_multihit srbds\r\n",
      "bogomips\t: 5399.81\r\n",
      "clflush size\t: 64\r\n",
      "cache_alignment\t: 64\r\n",
      "address sizes\t: 39 bits physical, 48 bits virtual\r\n",
      "power management:\r\n",
      "\r\n",
      "processor\t: 3\r\n",
      "vendor_id\t: GenuineIntel\r\n",
      "cpu family\t: 6\r\n",
      "model\t\t: 142\r\n",
      "model name\t: Intel(R) Core(TM) i5-7200U CPU @ 2.50GHz\r\n",
      "stepping\t: 9\r\n",
      "microcode\t: 0xde\r\n",
      "cpu MHz\t\t: 3100.000\r\n",
      "cache size\t: 3072 KB\r\n",
      "physical id\t: 0\r\n",
      "siblings\t: 4\r\n",
      "core id\t\t: 1\r\n",
      "cpu cores\t: 2\r\n",
      "apicid\t\t: 3\r\n",
      "initial apicid\t: 3\r\n",
      "fpu\t\t: yes\r\n",
      "fpu_exception\t: yes\r\n",
      "cpuid level\t: 22\r\n",
      "wp\t\t: yes\r\n",
      "flags\t\t: fpu vme de pse tsc msr pae mce cx8 apic sep mtrr pge mca cmov pat pse36 clflush dts acpi mmx fxsr sse sse2 ss ht tm pbe syscall nx pdpe1gb rdtscp lm constant_tsc art arch_perfmon pebs bts rep_good nopl xtopology nonstop_tsc cpuid aperfmperf pni pclmulqdq dtes64 monitor ds_cpl vmx est tm2 ssse3 sdbg fma cx16 xtpr pdcm pcid sse4_1 sse4_2 x2apic movbe popcnt tsc_deadline_timer aes xsave avx f16c rdrand lahf_lm abm 3dnowprefetch cpuid_fault epb invpcid_single pti ssbd ibrs ibpb stibp tpr_shadow vnmi flexpriority ept vpid ept_ad fsgsbase tsc_adjust bmi1 avx2 smep bmi2 erms invpcid mpx rdseed adx smap clflushopt intel_pt xsaveopt xsavec xgetbv1 xsaves dtherm ida arat pln pts hwp hwp_notify hwp_act_window hwp_epp md_clear flush_l1d\r\n",
      "vmx flags\t: vnmi preemption_timer invvpid ept_x_only ept_ad ept_1gb flexpriority tsc_offset vtpr mtf vapic ept vpid unrestricted_guest ple pml ept_mode_based_exec\r\n",
      "bugs\t\t: cpu_meltdown spectre_v1 spectre_v2 spec_store_bypass l1tf mds swapgs itlb_multihit srbds\r\n",
      "bogomips\t: 5399.81\r\n",
      "clflush size\t: 64\r\n",
      "cache_alignment\t: 64\r\n",
      "address sizes\t: 39 bits physical, 48 bits virtual\r\n",
      "power management:\r\n",
      "\r\n"
     ]
    }
   ],
   "source": [
    "# Informações técnicas da máquina utilizada:\n",
    "! cat /proc/cpuinfo"
   ]
  },
  {
   "cell_type": "code",
   "execution_count": 2,
   "id": "analyzed-apparel",
   "metadata": {
    "id": "sHJQbelDjuzi"
   },
   "outputs": [
    {
     "name": "stdout",
     "output_type": "stream",
     "text": [
      "/bin/bash: nvidia-smi: comando não encontrado\r\n"
     ]
    }
   ],
   "source": [
    "#?\n",
    "! nvidia-smi"
   ]
  },
  {
   "cell_type": "code",
   "execution_count": 3,
   "id": "under-stations",
   "metadata": {},
   "outputs": [],
   "source": [
    "# Copia o repositório do Github.\n",
    "# Os comandos são realizados em máquinas Linux.\n",
    "# ! git clone https://github.com/leonardoamorim/aulapython"
   ]
  },
  {
   "cell_type": "markdown",
   "id": "provincial-madagascar",
   "metadata": {},
   "source": [
    "## Básico Python:Apresentação Python"
   ]
  },
  {
   "cell_type": "markdown",
   "id": "democratic-essence",
   "metadata": {},
   "source": [
    "### Hello World!"
   ]
  },
  {
   "cell_type": "code",
   "execution_count": 4,
   "id": "increasing-impossible",
   "metadata": {
    "id": "wQzk74cOgyoB"
   },
   "outputs": [
    {
     "name": "stdout",
     "output_type": "stream",
     "text": [
      "hello world!\n"
     ]
    }
   ],
   "source": [
    "# Isso é um comentário, tem como objetivo explicar o código.\n",
    "# Aparece na tela o que estiver escrito dentro da função.\n",
    "print(\"hello world!\")"
   ]
  },
  {
   "cell_type": "code",
   "execution_count": 5,
   "id": "architectural-rabbit",
   "metadata": {
    "id": "TTVjp1lFlF5O"
   },
   "outputs": [
    {
     "name": "stdout",
     "output_type": "stream",
     "text": [
      "Qual é a melhor linguagem de programação?python\n",
      "Você acertou\n"
     ]
    }
   ],
   "source": [
    "nome  = input(\"Qual é a melhor linguagem de programação?\")\n",
    "if nome == \"python\":\n",
    "   print(\"Você acertou\")\n",
    "else:\n",
    "   print(\"Errou! =(\")"
   ]
  },
  {
   "cell_type": "markdown",
   "id": "focal-glasgow",
   "metadata": {},
   "source": [
    "### Tipos de Variáveis:"
   ]
  },
  {
   "cell_type": "code",
   "execution_count": 6,
   "id": "settled-memorial",
   "metadata": {
    "id": "I9tpJmSpmogu"
   },
   "outputs": [
    {
     "name": "stdout",
     "output_type": "stream",
     "text": [
      "O dado 1 é do tipo <class 'int'>\n"
     ]
    }
   ],
   "source": [
    "inteiro = 1 \n",
    "print('O dado {} é do tipo {}'.format(inteiro, type(inteiro)))"
   ]
  },
  {
   "cell_type": "code",
   "execution_count": 7,
   "id": "false-scale",
   "metadata": {
    "id": "8LFGli4lmrPu"
   },
   "outputs": [
    {
     "name": "stdout",
     "output_type": "stream",
     "text": [
      "O dado 0.003 é do tipo <class 'float'>\n"
     ]
    }
   ],
   "source": [
    "decimal = 0.003\n",
    "print('O dado {} é do tipo {}'.format(decimal, type(decimal)))"
   ]
  },
  {
   "cell_type": "code",
   "execution_count": 8,
   "id": "removable-browse",
   "metadata": {
    "id": "qLLaqZ2SmuLk"
   },
   "outputs": [
    {
     "name": "stdout",
     "output_type": "stream",
     "text": [
      "O dado Big Data é do tipo <class 'str'>\n"
     ]
    }
   ],
   "source": [
    "texto = \"Big Data\"\n",
    "print('O dado {} é do tipo {}'.format(texto, type(texto)))"
   ]
  },
  {
   "cell_type": "code",
   "execution_count": 9,
   "id": "purple-ticket",
   "metadata": {
    "id": "6cFjwdALmwvd"
   },
   "outputs": [
    {
     "name": "stdout",
     "output_type": "stream",
     "text": [
      "O dado True é do tipo <class 'bool'>\n"
     ]
    }
   ],
   "source": [
    "boolean = True\n",
    "print('O dado {} é do tipo {}'.format(boolean, type(boolean)))"
   ]
  },
  {
   "cell_type": "code",
   "execution_count": 10,
   "id": "appointed-female",
   "metadata": {
    "id": "6C402mcCm0XM"
   },
   "outputs": [
    {
     "name": "stdout",
     "output_type": "stream",
     "text": [
      "O dado {'nome': 'Guido', 'idade': 28} é do tipo <class 'dict'>\n"
     ]
    }
   ],
   "source": [
    "dicionario = {\"nome\":\"Guido\",\"idade\":28}\n",
    "print('O dado {} é do tipo {}'.format(dicionario, type(dicionario)))"
   ]
  },
  {
   "cell_type": "code",
   "execution_count": 11,
   "id": "smaller-british",
   "metadata": {
    "id": "SyTccVslm-PZ"
   },
   "outputs": [
    {
     "name": "stdout",
     "output_type": "stream",
     "text": [
      "O dado ['item1', 'item2', 3, 'quatro', 3.14] é do tipo <class 'list'>\n"
     ]
    }
   ],
   "source": [
    "lista = [\"item1\", \"item2\",3,\"quatro\",3.14]\n",
    "print('O dado {} é do tipo {}'.format(lista, type(lista)))"
   ]
  },
  {
   "cell_type": "code",
   "execution_count": 12,
   "id": "logical-treatment",
   "metadata": {
    "id": "CXQV8vHgnH6J"
   },
   "outputs": [
    {
     "name": "stdout",
     "output_type": "stream",
     "text": [
      "O dado (1, 2, 3, 'Python') é do tipo <class 'tuple'>\n"
     ]
    }
   ],
   "source": [
    "tupla = (1,2,3,\"Python\")\n",
    "print('O dado {} é do tipo {}'.format(tupla, type(tupla)))"
   ]
  },
  {
   "cell_type": "code",
   "execution_count": 13,
   "id": "progressive-universe",
   "metadata": {
    "id": "qJxgHUkpnhJG"
   },
   "outputs": [
    {
     "data": {
      "text/plain": [
       "complex"
      ]
     },
     "execution_count": 13,
     "metadata": {},
     "output_type": "execute_result"
    }
   ],
   "source": [
    "x = 1  - 2j\n",
    "type(x)"
   ]
  },
  {
   "cell_type": "markdown",
   "id": "nearby-hurricane",
   "metadata": {},
   "source": [
    "### Condições:"
   ]
  },
  {
   "cell_type": "code",
   "execution_count": 14,
   "id": "worth-flush",
   "metadata": {
    "id": "H57Y95kgsoGt"
   },
   "outputs": [
    {
     "name": "stdout",
     "output_type": "stream",
     "text": [
      "O valor de x é igual a vazio\n"
     ]
    }
   ],
   "source": [
    "x = \" \"\n",
    "if(x):\n",
    "  print(\"O valor de x é igual a vazio\")\n",
    "else:\n",
    "  print(\"A variável 'x' contém caracteres\")"
   ]
  },
  {
   "cell_type": "code",
   "execution_count": 15,
   "id": "scientific-prison",
   "metadata": {
    "id": "zhqKcMkOtNTQ"
   },
   "outputs": [
    {
     "name": "stdout",
     "output_type": "stream",
     "text": [
      "False\n"
     ]
    }
   ],
   "source": [
    "y = \"Um\"\n",
    "z = 1\n",
    "print(y == z)"
   ]
  },
  {
   "cell_type": "code",
   "execution_count": 16,
   "id": "gorgeous-services",
   "metadata": {
    "id": "r3G549J7uAwx"
   },
   "outputs": [
    {
     "name": "stdout",
     "output_type": "stream",
     "text": [
      "Você pode dirigir\n"
     ]
    }
   ],
   "source": [
    "idade = 18\n",
    "sobrio = True\n",
    "\n",
    "if idade >= 18 and sobrio == True:\n",
    "  print(\"Você pode dirigir\")\n",
    "else:\n",
    "  print(\"Você não pode dirigir\")"
   ]
  },
  {
   "cell_type": "code",
   "execution_count": 17,
   "id": "heated-trustee",
   "metadata": {},
   "outputs": [
    {
     "name": "stdout",
     "output_type": "stream",
     "text": [
      "faça novos testes\n"
     ]
    }
   ],
   "source": [
    "i = 0\n",
    "if i == 45:\n",
    "  print(\"i é 45\")\n",
    "elif i == 35:\n",
    "  print(\"i é 35\")\n",
    "elif i > 0:\n",
    "  print(\"i é maior que zero\")\n",
    "else:\n",
    "  print(\"faça novos testes\")"
   ]
  },
  {
   "cell_type": "markdown",
   "id": "known-insured",
   "metadata": {},
   "source": [
    "### Estruturas de Repetição:"
   ]
  },
  {
   "cell_type": "code",
   "execution_count": 18,
   "id": "neutral-accountability",
   "metadata": {
    "id": "Pmj2y14VuRMc"
   },
   "outputs": [
    {
     "name": "stdout",
     "output_type": "stream",
     "text": [
      "Número: 1\n",
      "Número: 2\n",
      "Número: 3\n",
      "Número: 4\n",
      "Número: 5\n",
      "Número: 6\n",
      "Número: 7\n",
      "Número: 8\n",
      "Número: 9\n",
      "O while acabou\n"
     ]
    }
   ],
   "source": [
    "x = 1\n",
    "while x < 10:\n",
    "  print(\"Número: %s\" %x)\n",
    "  x += 1\n",
    "print(\"O while acabou\")"
   ]
  },
  {
   "cell_type": "code",
   "execution_count": 19,
   "id": "satisfactory-breath",
   "metadata": {
    "id": "QwlxfNp5zU86"
   },
   "outputs": [
    {
     "name": "stdout",
     "output_type": "stream",
     "text": [
      ">done\n",
      "Done!\n"
     ]
    }
   ],
   "source": [
    "while True:\n",
    "  linha = input('>')\n",
    "  if linha == 'done':\n",
    "    break\n",
    "  print(linha)\n",
    "print(\"Done!\")"
   ]
  },
  {
   "cell_type": "code",
   "execution_count": 20,
   "id": "pending-orleans",
   "metadata": {},
   "outputs": [
    {
     "name": "stdout",
     "output_type": "stream",
     "text": [
      "0\n",
      "1\n",
      "2\n",
      "4\n",
      "5\n"
     ]
    }
   ],
   "source": [
    "for i in range(6):\n",
    "  if i == 3:\n",
    "    continue\n",
    "  print(i)"
   ]
  },
  {
   "cell_type": "markdown",
   "id": "superior-ghost",
   "metadata": {},
   "source": [
    "### Listas:"
   ]
  },
  {
   "cell_type": "code",
   "execution_count": 21,
   "id": "spatial-newton",
   "metadata": {
    "id": "n09lKTaU0GBD"
   },
   "outputs": [
    {
     "name": "stdout",
     "output_type": "stream",
     "text": [
      "Laranja\n"
     ]
    }
   ],
   "source": [
    "frutas = [\"Laranja\", \"Melancia\", \"Uva\"]\n",
    "print(frutas[0])"
   ]
  },
  {
   "cell_type": "code",
   "execution_count": 22,
   "id": "afraid-undergraduate",
   "metadata": {
    "id": "96AELpjO0LmY"
   },
   "outputs": [
    {
     "name": "stdout",
     "output_type": "stream",
     "text": [
      "Laranja\n",
      "Melancia\n",
      "Uva\n"
     ]
    }
   ],
   "source": [
    "# Listas em Estrutura de Repetição:\n",
    "for f in frutas:\n",
    "  print(f)"
   ]
  },
  {
   "cell_type": "code",
   "execution_count": 23,
   "id": "smooth-allocation",
   "metadata": {
    "id": "qv0bIdnN0WdN"
   },
   "outputs": [
    {
     "name": "stdout",
     "output_type": "stream",
     "text": [
      "0\n",
      "1\n",
      "2\n",
      "3\n",
      "4\n",
      "5\n",
      "6\n",
      "7\n",
      "8\n",
      "9\n"
     ]
    }
   ],
   "source": [
    "for i in range(0,10,1):\n",
    "  print(i)"
   ]
  },
  {
   "cell_type": "code",
   "execution_count": 24,
   "id": "saving-specialist",
   "metadata": {
    "id": "T988OJfi1v-r"
   },
   "outputs": [
    {
     "name": "stdout",
     "output_type": "stream",
     "text": [
      "L\n",
      "e\n",
      "o\n",
      "n\n",
      "a\n",
      "r\n",
      "d\n",
      "o\n"
     ]
    }
   ],
   "source": [
    "# As Strings funcionam como listas. Cada caracter é um elemento da lista\n",
    "nome = \"Leonardo\"\n",
    "for i in nome:\n",
    "  print(i)"
   ]
  },
  {
   "cell_type": "code",
   "execution_count": 25,
   "id": "numeric-james",
   "metadata": {
    "id": "SjY__cGg2T9r"
   },
   "outputs": [
    {
     "name": "stdout",
     "output_type": "stream",
     "text": [
      "Não encontrei\n"
     ]
    }
   ],
   "source": [
    "cat = 'spot'\n",
    "if 'P' in cat:\n",
    "  print(\"Encontrado o caractere 'p' em cat\")\n",
    "else:\n",
    "  print(\"Não encontrei\")"
   ]
  },
  {
   "cell_type": "code",
   "execution_count": 26,
   "id": "crude-heritage",
   "metadata": {
    "id": "jxqzAg2l4PIC"
   },
   "outputs": [
    {
     "data": {
      "text/plain": [
       "'Amorim'"
      ]
     },
     "execution_count": 26,
     "metadata": {},
     "output_type": "execute_result"
    }
   ],
   "source": [
    "nomes = [\"Leonardo\", \"Afonso\", \"Amorim\"]\n",
    "nome = nomes.pop()\n",
    "nome"
   ]
  },
  {
   "cell_type": "code",
   "execution_count": 27,
   "id": "beneficial-registration",
   "metadata": {
    "id": "2s2vw_Rn4BJ2"
   },
   "outputs": [
    {
     "name": "stdout",
     "output_type": "stream",
     "text": [
      "['Leonardo', 'Afonso']\n"
     ]
    }
   ],
   "source": [
    "print(nomes)"
   ]
  },
  {
   "cell_type": "code",
   "execution_count": 28,
   "id": "interpreted-first",
   "metadata": {
    "id": "wstwvKy645zG"
   },
   "outputs": [
    {
     "name": "stdout",
     "output_type": "stream",
     "text": [
      "Afonso\n",
      "Leonardo\n",
      "A lista já está vazia\n"
     ]
    }
   ],
   "source": [
    "while True:\n",
    "  try:\n",
    "    nome = nomes.pop()\n",
    "    print(nome)\n",
    "  except IndexError as e:\n",
    "    print(\"A lista já está vazia\")\n",
    "    break"
   ]
  }
 ],
 "metadata": {
  "kernelspec": {
   "display_name": "Python 3",
   "language": "python",
   "name": "python3"
  },
  "language_info": {
   "codemirror_mode": {
    "name": "ipython",
    "version": 3
   },
   "file_extension": ".py",
   "mimetype": "text/x-python",
   "name": "python",
   "nbconvert_exporter": "python",
   "pygments_lexer": "ipython3",
   "version": "3.8.0"
  }
 },
 "nbformat": 4,
 "nbformat_minor": 5
}
